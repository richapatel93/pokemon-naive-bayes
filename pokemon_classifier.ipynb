{
  "nbformat": 4,
  "nbformat_minor": 0,
  "metadata": {
    "colab": {
      "provenance": []
    },
    "kernelspec": {
      "name": "python3",
      "display_name": "Python 3"
    },
    "language_info": {
      "name": "python"
    }
  },
  "cells": [
    {
      "cell_type": "markdown",
      "source": [
        "#COSC 522 UTK\n",
        "#Project 1\n",
        "#Student Name:Richa Patel"
      ],
      "metadata": {
        "id": "HbJbkf0epq58"
      }
    },
    {
      "cell_type": "code",
      "source": [
        "import pandas as pd\n",
        "\n",
        "# Load the data\n",
        "url = 'https://gist.github.com/rhema/3b4b729d98978b9020d85c9b9e7c9dd6/raw/e0831e96129b2a0af0c696efe132cb8503c1e631/NormalWaterFlyingPokemon.csv'\n",
        "all_data = pd.read_csv(url)\n",
        "\n",
        "# Split the data into training and testing sets\n",
        "train_data = all_data.iloc[:275, :]\n",
        "test_data = all_data.iloc[275:, :]\n",
        "\n",
        "# Function to calculate prior probabilities\n",
        "def calculate_priors(train_data):\n",
        "    class_counts = train_data['Type'].value_counts()\n",
        "    priors = class_counts / len(train_data)\n",
        "    return priors\n",
        "\n",
        "# Function to calculate likelihoods with Laplace smoothing\n",
        "def calculate_likelihoods(train_data):\n",
        "    likelihoods = {}\n",
        "    for type_name in train_data['Type'].unique():\n",
        "        type_data = train_data[train_data['Type'] == type_name]\n",
        "        feature_likelihoods = {}\n",
        "        for feature in ['HP', 'Attack', 'Defense']:\n",
        "            feature_counts = type_data[feature].value_counts()\n",
        "            unique_values = len(train_data[feature].unique())  # Count unique feature values for smoothing\n",
        "            feature_likelihoods[feature] = {\n",
        "                value: (feature_counts.get(value, 0) + 1) / (len(type_data) + unique_values)\n",
        "                for value in train_data[feature].unique()\n",
        "            }\n",
        "        likelihoods[type_name] = feature_likelihoods\n",
        "    return likelihoods\n",
        "\n",
        "# Function to make predictions\n",
        "def predict(row, priors, likelihoods):\n",
        "    probabilities = {}\n",
        "    for type_name in priors.index:\n",
        "        # Start with the prior probability\n",
        "        probabilities[type_name] = priors[type_name]\n",
        "        # Multiply by the likelihood of each feature\n",
        "        for feature in ['HP', 'Attack', 'Defense']:\n",
        "            feature_value = row[feature]\n",
        "            probabilities[type_name] *= likelihoods[type_name][feature].get(feature_value, 1 / (len(train_data) + len(train_data[feature].unique())))  # Apply smoothing for unseen values\n",
        "    # Return the type with the highest probability\n",
        "    predicted_type = max(probabilities, key=probabilities.get)\n",
        "    return {\"score\": probabilities[predicted_type], \"class\": predicted_type}\n",
        "\n",
        "# Calculate priors and likelihoods\n",
        "priors = calculate_priors(train_data)\n",
        "likelihoods = calculate_likelihoods(train_data)\n",
        "\n",
        "# Use this loop to make predictions for the test data\n",
        "for index, row in test_data.iterrows():\n",
        "    result = predict(row, priors, likelihoods)\n",
        "    print(f\"Pokémon: {row['Name']}, Predicted Type: {result['class']}, Probability: {result['score']:.4f}\")\n"
      ],
      "metadata": {
        "colab": {
          "base_uri": "https://localhost:8080/"
        },
        "id": "s9eol4kUvG1C",
        "outputId": "af92d5d3-c990-47f4-deec-d140afbd4de3"
      },
      "execution_count": 17,
      "outputs": [
        {
          "output_type": "stream",
          "name": "stdout",
          "text": [
            "Pokémon: Pidgeotto, Predicted Type: Normal, Probability: 0.0157\n",
            "Pokémon: Zubat, Predicted Type: Water, Probability: 0.0165\n",
            "Pokémon: Igglybuff, Predicted Type: Normal, Probability: 0.0248\n",
            "Pokémon: Watchog, Predicted Type: Normal, Probability: 0.0120\n",
            "Pokémon: Pyroar, Predicted Type: Water, Probability: 0.0212\n",
            "Pokémon: Sawsbuck, Predicted Type: Flying, Probability: 0.0158\n",
            "Pokémon: Suicune, Predicted Type: Water, Probability: 0.0294\n",
            "Pokémon: Zangoose, Predicted Type: Normal, Probability: 0.0077\n",
            "Pokémon: Azumarill, Predicted Type: Water, Probability: 0.0246\n",
            "Pokémon: Squirtle, Predicted Type: Water, Probability: 0.0157\n",
            "Pokémon: Togetic, Predicted Type: Water, Probability: 0.0218\n",
            "Pokémon: Gliscor, Predicted Type: Flying, Probability: 0.0280\n",
            "Pokémon: Noibat, Predicted Type: Water, Probability: 0.0165\n",
            "Pokémon: Skiploom, Predicted Type: Water, Probability: 0.0165\n",
            "Pokémon: Snorlax, Predicted Type: Flying, Probability: 0.0158\n",
            "Pokémon: Simipour, Predicted Type: Flying, Probability: 0.0158\n",
            "Pokémon: Chansey, Predicted Type: Normal, Probability: 0.0248\n",
            "Pokémon: Butterfree, Predicted Type: Normal, Probability: 0.0157\n",
            "Pokémon: Spearow, Predicted Type: Water, Probability: 0.0165\n",
            "Pokémon: Delibird, Predicted Type: Water, Probability: 0.0165\n",
            "Pokémon: Feraligatr, Predicted Type: Flying, Probability: 0.0280\n",
            "Pokémon: Bunnelby, Predicted Type: Water, Probability: 0.0165\n"
          ]
        }
      ]
    }
  ]
}